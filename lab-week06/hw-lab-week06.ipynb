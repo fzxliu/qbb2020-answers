{
 "cells": [
  {
   "cell_type": "code",
   "execution_count": 1,
   "metadata": {},
   "outputs": [],
   "source": [
    "# group base pairs in the extracted methylation bed files by gene loci\n",
    "# calculate avg. methylation freq in genes\n",
    "# repeat for the other cell type\n",
    "# calculate fold change of methylation freq in each gene\n",
    "\n",
    "import gzip\n",
    "\n",
    "E4_gene=gzip.open('extracted_sites/SRR3083926.sorted.bismark.cov.gz', 'r')\n",
    "E5_gene=gzip.open('extracted_sites/SRR3083929.sorted.bismark.cov.gz', 'r')\n",
    "\n",
    "# extract the methylated bases the frequencies from each bismark file\n",
    "E4={}\n",
    "E4base_list=[]\n",
    "for line in E4_gene:\n",
    "    base_E4=line.decode('utf-8').split('\\t')[1]\n",
    "    E4base_list.append(base_E4)\n",
    "    \n",
    "    me_freq_E4=line.decode('utf-8').split('\\t')[3]\n",
    "    E4[base_E4]=me_freq_E4\n",
    "\n",
    "E5={}\n",
    "E5base_list=[]\n",
    "for line in E5_gene:\n",
    "    base_E5=line.decode('utf-8').split('\\t')[1]\n",
    "    E5base_list.append(base_E5)\n",
    "    \n",
    "    me_freq_E5=line.decode('utf-8').split('\\t')[3]\n",
    "    E5[base_E5]=me_freq_E5\n"
   ]
  },
  {
   "cell_type": "code",
   "execution_count": 2,
   "metadata": {},
   "outputs": [],
   "source": [
    "gene_bed=open('mm10_refseq_genes_chr6_50M_60M.bed', 'r')\n",
    "gene_idx=0\n",
    "gene_dict={}\n",
    "gene_name={}\n",
    "for line in gene_bed:\n",
    "    # find the ORF of the gene from the bed file\n",
    "    orf=[]\n",
    "    start=int(line.split('\\t')[4])\n",
    "    end=int(line.split('\\t')[5])\n",
    "    orf=[start, end]\n",
    "    \n",
    "    # make a dictionary w/ gene index as key\n",
    "    # and the gene ORF as value\n",
    "    gene_dict[gene_idx]=orf\n",
    "\n",
    "    # store gene names by indices\n",
    "    name=line.split('\\t')[12]\n",
    "    gene_name[gene_idx]=name\n",
    "    # move to next index\n",
    "    gene_idx+=1"
   ]
  },
  {
   "cell_type": "code",
   "execution_count": 3,
   "metadata": {},
   "outputs": [],
   "source": [
    "# searched_idx=0\n",
    "# gene_me_freq=0\n",
    "# loc_counter=0\n",
    "# E4gene_freq=0\n",
    "\n",
    "# E4freq_dict={}\n",
    "# for loc in E4base_list:\n",
    "#     bp=int(loc)\n",
    "#     if searched_idx>151:\n",
    "#         break\n",
    "#     elif bp<gene_dict[searched_idx][0]:\n",
    "#         continue\n",
    "#     elif bp>=gene_dict[searched_idx][0] and bp<=gene_dict[searched_idx][1]:\n",
    "#         E4gene_freq+=float(E4[loc])\n",
    "#         loc_counter+=1\n",
    "#     elif bp>gene_dict[searched_idx][1]:\n",
    "#         avg_freq_E4=E4gene_freq/loc_counter\n",
    "#         E4freq_dict[searched_idx]=avg_freq_E4\n",
    "#         searched_idx+=1\n",
    "#         continue"
   ]
  },
  {
   "cell_type": "code",
   "execution_count": 4,
   "metadata": {},
   "outputs": [],
   "source": [
    "def gene_methylation_freq(base_dict, base_list):\n",
    "    searched_idx=0\n",
    "    gene_me_freq=0\n",
    "    loc_counter=0\n",
    "    gene_freq=0\n",
    "\n",
    "    freq_dict={}\n",
    "    for loc in base_list:\n",
    "        bp=int(loc)\n",
    "        if searched_idx>151:\n",
    "            break\n",
    "        elif bp<gene_dict[searched_idx][0]:\n",
    "            continue\n",
    "        elif bp>=gene_dict[searched_idx][0] and bp<=gene_dict[searched_idx][1]:\n",
    "            gene_freq+=float(base_dict[loc])\n",
    "            loc_counter+=1\n",
    "        elif bp>gene_dict[searched_idx][1]:\n",
    "            avg_freq=gene_freq/loc_counter\n",
    "            freq_dict[searched_idx]=avg_freq\n",
    "            searched_idx+=1\n",
    "            continue\n",
    "    return freq_dict"
   ]
  },
  {
   "cell_type": "code",
   "execution_count": 5,
   "metadata": {},
   "outputs": [],
   "source": [
    "E4_me_freq=gene_methylation_freq(E4, E4base_list)\n",
    "E5_me_freq=gene_methylation_freq(E5, E5base_list)"
   ]
  },
  {
   "cell_type": "code",
   "execution_count": 6,
   "metadata": {},
   "outputs": [],
   "source": [
    "# calculate fold change from E4 to E5\n",
    "fc={}\n",
    "for i in range(0, 152):\n",
    "    if E4_me_freq[i]==0:\n",
    "        continue\n",
    "    else:\n",
    "        fc[i]=E5_me_freq[i]/E4_me_freq[i]-1\n"
   ]
  },
  {
   "cell_type": "code",
   "execution_count": 9,
   "metadata": {},
   "outputs": [
    {
     "name": "stdout",
     "output_type": "stream",
     "text": [
      "{'Mpp6': 1.8712002044947935, 'Dfna5': 2.178766400517201, 'Osbpl3': 3.0912986058964105, 'Cycs': 3.1586689658818576, '5430402O13Rik': 3.053155915091568, 'Mir6371': 3.053155915091568, '4921507P07Rik': 3.036487006904469, 'Npvf': 3.037485513795465, 'C530044C16Rik': 2.7762114348776867, 'Mir148a': 2.7686398164662336, 'Gm6559': 2.7043621929433255, 'Nfe2l3': 2.6747282088855, 'Hnrnpa2b1': 2.6659851630129534, 'Cbx3': 2.7005310021481788, 'Snx10': 2.899249172580267, 'Skap2': 2.648363103093779, 'Halr1': 2.675191684488082, 'Hoxa1': 2.6763907544759906, 'Hotairm1': 2.6971219070421197, 'Hoxa2': 2.68421949594067, 'Hoxaas2': 2.6653061867568817, 'Hoxa3': 2.618623612667752, 'Hoxa4': 2.618623612667752, 'Hoxaas3': 2.607569957133932, 'Hoxa5': 2.607569957133932, 'Hoxa6': 2.607569957133932, 'Mira': 2.6073829514137494, 'Hoxa7': 2.598745073538983, 'Hoxa9': 2.5769816945514346, 'Mir196b': 2.5725222732876407, 'Hoxa10': 2.537953220551817, 'Hoxa11': 2.5323762032726034, 'Hoxa11os': 2.529024653527661, 'Hoxa13': 2.5341067644326856, 'Hottip': 2.528026384143163, 'Evx1os': 2.5091695706628676, 'Evx1': 2.456366719641838, '1700094M24Rik': 2.453792528868972, 'Hibadh': 2.3471504558109695, 'Tax1bp1': 2.2764279105383642, 'Jazf1': 2.175993526300927, 'Gm4872': 2.178601344444772, '9430076C15Rik': 2.273167090398875, 'Creb5': 2.441202857978196, 'Tril': 2.4271495694137313, 'Cpvl': 2.454009987559967, '4921529L05Rik': 2.4686509382337047, 'Chn2': 2.394879175813368, '9130019P16Rik': 2.394879175813368, 'Prr15': 2.394879175813368, 'Wipf3': 2.4313721073398886, 'Scrn1': 2.4693396065571234, 'Fkbp14': 2.467532731001413, 'Plekha8': 2.469847968419658, 'Mturn': 2.5016887944127535, 'Znrf2': 2.5267049742253285, 'Nod1': 2.541181353693024, 'Ggct': 2.5370244418409458, 'Gars': 2.52551986327839, 'Crhr2': 2.531003505773156, 'Inmt': 2.531222473822385, 'Fam188b': 2.496435894481359, 'Aqp1': 2.5005514371950013, 'Ghrhr': 2.504740560593464, '6430584L05Rik': 2.516459356778973, 'Adcyap1r1': 2.483587793156361, 'Neurod6': 2.484877353858682, 'Gm3279': 2.487834035369612, 'Ccdc129': 2.5035160817602513, 'Ppp1r17': 2.5159651635232128, 'Pde1c': 2.429414936050821, 'Lsm5': 2.4303382466284247, 'Avl9': 2.4141226369016264, 'Kbtbd2': 2.4248608854682967, 'Fkbp9': 2.4215132642584605, 'Nt5c3': 2.4192617772533063, 'Vmn1r4': 2.4173528236350403, 'Vmn1r5': 2.4162103610650982, 'Vmn1r6': 2.416398223394885, 'Vmn1r7': 2.4143751792966746, 'Vmn1r8': 2.415094774231406, 'Vmn1r9': 2.4150228425082974, 'Vmn1r10': 2.4153348029132733, 'Vmn1r11': 2.4150625673191977, 'Vmn1r12': 2.415459766799571, 'Vmn1r13': 2.414772008557245, 'Vmn1r14': 2.4134300226320384, 'Vmn1r15': 2.413279307990277, 'Vmn1r16': 2.413349422334316, 'Vmn1r17': 2.4138674754215512, 'Vmn1r18': 2.4139901351517485, 'Vmn1r19': 2.4141670075035853, 'Vmn1r20': 2.4143502550858744, 'Ppm1k': 2.402921313972641, 'Herc6': 2.3947554023747446, 'Pyurf': 2.3881147553299056, 'Lancl2': 2.3814130966216718, 'Vopp1': 2.394710200336288, 'Vmn1r21': 2.3951108740261766, 'Vmn1r22': 2.395060031920729, 'Vmn1r23': 2.3951318712086587, 'Vmn1r24': 2.395130656715463, 'Vmn1r25': 2.3951802753147025, 'Vmn1r26': 2.395480486697912, 'Vmn1r27': 2.3949011639407134, 'Vmn1r28': 2.395082651871357, 'Vmn1r29': 2.393940631751546, 'Vmn1r30': 2.393986721790075, 'Vmn1r31': 2.3939359270699274, 'Abcg2': 2.407874210099103, 'Herc3': 2.3608576785224695, 'Nap1l5': 2.3608576785224695, 'Fam13a': 2.3746409266303727, 'Tigd2': 2.372048292807021, 'Gprin3': 2.3830125749747757}\n"
     ]
    }
   ],
   "source": [
    "name_fc={}\n",
    "for i in range(0, 152):\n",
    "    name_fc[gene_name[i]]=fc[i]\n",
    "print(name_fc)"
   ]
  },
  {
   "cell_type": "code",
   "execution_count": null,
   "metadata": {},
   "outputs": [],
   "source": []
  }
 ],
 "metadata": {
  "kernelspec": {
   "display_name": "Python 3",
   "language": "python",
   "name": "python3"
  },
  "language_info": {
   "codemirror_mode": {
    "name": "ipython",
    "version": 3
   },
   "file_extension": ".py",
   "mimetype": "text/x-python",
   "name": "python",
   "nbconvert_exporter": "python",
   "pygments_lexer": "ipython3",
   "version": "3.6.10"
  }
 },
 "nbformat": 4,
 "nbformat_minor": 4
}
