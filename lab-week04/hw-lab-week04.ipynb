{
 "cells": [
  {
   "cell_type": "markdown",
   "metadata": {},
   "source": [
    "For blastn\n",
    "Max target sequences=1000\n",
    "Expect threshold=0.0001\n",
    "\n",
    "Download sequences instead of alignment after blast search to get a non-gapped fasta file"
   ]
  },
  {
   "cell_type": "code",
   "execution_count": null,
   "metadata": {},
   "outputs": [],
   "source": [
    "# %%bash\n",
    "# transeq seqdump.txt\n",
    "# # named translated query\n",
    "\n",
    "# mafft translated_dump.txt > aligned.txt"
   ]
  },
  {
   "cell_type": "code",
   "execution_count": 2,
   "metadata": {},
   "outputs": [],
   "source": [
    "import sys\n",
    "from fasta_iterator_class import FASTAReader\n",
    "aligned=FASTAReader(open('aligned.txt','r'))\n",
    "na_seq=FASTAReader(open('seqdump.txt','r'))\n",
    "\n",
    "\n",
    "\n",
    "# Q3\n",
    "list_na=[]\n",
    "list_aa=[]\n",
    "for aa_seq, na_seq in zip(aligned, na_seq):\n",
    "    aligned_na=[]\n",
    "    aligned_aa=[]\n",
    "    aa_counter=0\n",
    "    length=len(aa_seq[1].replace(\"-\", \"\"))\n",
    "    #print(length)\n",
    "    for amino_acid in aa_seq[1]:  # loop through the amino acids in each aa alignment\n",
    "        codon=na_seq[1][3*aa_counter:3*aa_counter+3]\n",
    "        #print(codon)\n",
    "        if aa_counter==length:\n",
    "            list_na.append(''.join(aligned_na))\n",
    "            list_aa.append(''.join(aligned_aa))\n",
    "            break\n",
    "        else:\n",
    "            aligned_aa.append(amino_acid)\n",
    "            if amino_acid=='-':\n",
    "                #print(\"gap\")\n",
    "                aligned_na.append('---')\n",
    "            else:\n",
    "                #print(\"not gap\")\n",
    "                aligned_na.append(codon)\n",
    "                aa_counter+=1\n"
   ]
  },
  {
   "cell_type": "code",
   "execution_count": 7,
   "metadata": {
    "scrolled": false
   },
   "outputs": [],
   "source": [
    "# Q4\n",
    "\n",
    "# make a function to split a DNA sequence into codons\n",
    "def get_codon(aligned_dna): #input single aligned DNA sequence\n",
    "    codon_list=[]\n",
    "    codon_pos=[]\n",
    "    codon_counter=0\n",
    "    assert type(aligned_dna)==str, \"input sequence as a string\"\n",
    "    assert ('A' in aligned_dna) or ('T' in aligned_dna) \\\n",
    "    or ('C' in aligned_dna) or ('G' in aligned_dna), \"does not look like a sequence\"\n",
    "    for i in range(0, len(aligned_dna)//3):\n",
    "        codon_counter+=1\n",
    "        codon_list.append(aligned_dna[3*i:3*i+3])\n",
    "        if aligned_dna[3*i:3*i+3]=='---':\n",
    "            continue\n",
    "        else:\n",
    "            codon_pos.append(codon_counter)\n",
    "            \n",
    "    return (codon_pos, codon_list)"
   ]
  },
  {
   "cell_type": "code",
   "execution_count": 9,
   "metadata": {},
   "outputs": [],
   "source": [
    "import pandas as pd\n",
    "\n",
    "def split(word): \n",
    "    return [char for char in word]  \n",
    "\n",
    "q_dna=list_na[0]\n",
    "q_codon=get_codon(q_dna)[1]\n",
    "q_codon_pos=get_codon(q_dna)[0]\n",
    "\n",
    "q_translated=list_aa[0]\n",
    "q_aa=split(q_translated)\n",
    "\n",
    "seq_data=[]\n",
    "for dna_seq in list_na:\n",
    "    seq_data.append(get_codon(dna_seq)[1])\n",
    "df = pd.DataFrame(seq_data)\n",
    "df=df.truncate(before=q_codon_pos[0]-1,after=q_codon_pos[-1]-1, axis=1)\n",
    "\n",
    "\n",
    "\n",
    "\n",
    "\n",
    "aa_data=[]\n",
    "for aa_seq in list_aa:\n",
    "    aa_data.append(split(aa_seq))\n",
    "\n",
    "df_aa=pd.DataFrame(aa_data)\n",
    "df_aa=df_aa.truncate(before=q_codon_pos[0]-1,after=q_codon_pos[-1]-1, axis=1)"
   ]
  },
  {
   "cell_type": "code",
   "execution_count": 10,
   "metadata": {},
   "outputs": [],
   "source": [
    "\n",
    "\n",
    "list_dS=[]\n",
    "list_dN=[]\n",
    "\n",
    "for p in q_codon_pos:\n",
    "    mutations=999-sum(df[p-1]==q_codon[p-1])\n",
    "    dS=sum((df_aa[p-1]==q_aa[p-1]) & ~(df[p-1]==q_codon[p-1]))\n",
    "    dN=mutations-dS\n",
    "    list_dS.append(dS)\n",
    "    list_dN.append(dN)"
   ]
  },
  {
   "cell_type": "code",
   "execution_count": 11,
   "metadata": {},
   "outputs": [],
   "source": [
    "import numpy as np\n",
    "list_dN=np.array(list_dN)\n",
    "list_dS=np.array(list_dS)\n",
    "D=list_dN-list_dS\n",
    "\n",
    "ratio=list_dN/list_dS\n"
   ]
  },
  {
   "cell_type": "code",
   "execution_count": 12,
   "metadata": {},
   "outputs": [],
   "source": [
    "from scipy import stats\n",
    "Zscore=stats.zscore(D)\n",
    "\n",
    "ratio_sig=[]\n",
    "ratio_insig=[]\n",
    "x_sig=[]\n",
    "x_insig=[]\n",
    "\n",
    "# for two-tailed distribution, p=0.05 corresponds to Z score of 1.96\n",
    "for i in range(1,len(D)):\n",
    "    if Zscore[i-1]>=1.96:\n",
    "        x_sig.append(q_codon_pos[i-1])\n",
    "        ratio_sig.append(ratio[i-1])\n",
    "    else:\n",
    "        x_insig.append(q_codon_pos[i-1])\n",
    "        ratio_insig.append(ratio[i-1])"
   ]
  },
  {
   "cell_type": "code",
   "execution_count": 14,
   "metadata": {},
   "outputs": [
    {
     "name": "stderr",
     "output_type": "stream",
     "text": [
      "/home/pyrococci/miniconda3/envs/cmdb/lib/python3.6/site-packages/ipykernel_launcher.py:4: RuntimeWarning: divide by zero encountered in log2\n",
      "  after removing the cwd from sys.path.\n",
      "/home/pyrococci/miniconda3/envs/cmdb/lib/python3.6/site-packages/ipykernel_launcher.py:4: RuntimeWarning: invalid value encountered in log2\n",
      "  after removing the cwd from sys.path.\n"
     ]
    },
    {
     "data": {
      "text/plain": [
       "Text(0, 0.5, 'log2 dN/dS')"
      ]
     },
     "execution_count": 14,
     "metadata": {},
     "output_type": "execute_result"
    },
    {
     "data": {
      "image/png": "[encoded data removed]",
      "text/plain": [
       "<Figure size 432x288 with 1 Axes>"
      ]
     },
     "metadata": {
      "needs_background": "light"
     },
     "output_type": "display_data"
    }
   ],
   "source": [
    "import matplotlib.pyplot as plt\n",
    "\n",
    "plt.scatter(x_sig,np.log2(ratio_sig),color='red')\n",
    "plt.scatter(x_insig,np.log2(ratio_insig),color='black')\n",
    "plt.xlabel('Codons')\n",
    "plt.ylabel('log2 dN/dS')\n",
    "\n"
   ]
  },
  {
   "cell_type": "code",
   "execution_count": null,
   "metadata": {},
   "outputs": [],
   "source": []
  },
  {
   "cell_type": "code",
   "execution_count": null,
   "metadata": {},
   "outputs": [],
   "source": []
  },
  {
   "cell_type": "code",
   "execution_count": null,
   "metadata": {},
   "outputs": [],
   "source": []
  }
 ],
 "metadata": {
  "kernelspec": {
   "display_name": "Python 3",
   "language": "python",
   "name": "python3"
  },
  "language_info": {
   "codemirror_mode": {
    "name": "ipython",
    "version": 3
   },
   "file_extension": ".py",
   "mimetype": "text/x-python",
   "name": "python",
   "nbconvert_exporter": "python",
   "pygments_lexer": "ipython3",
   "version": "3.6.10"
  }
 },
 "nbformat": 4,
 "nbformat_minor": 4
}
