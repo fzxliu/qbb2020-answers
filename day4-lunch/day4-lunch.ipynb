{
 "cells": [
  {
   "cell_type": "code",
   "execution_count": 105,
   "metadata": {},
   "outputs": [],
   "source": [
    "file=open('/mnt/c/Users/Frank/jhubootcamp/data/genomes/BDGP6.Ensembl.81.gtf','r')\n",
    "gene_list=[]\n",
    "for line in file.readlines():\n",
    "    if \"#\" in line:\n",
    "        continue\n",
    "    proteinTF = \"protein_coding\" in line\n",
    "    chrTF = \"3R\" in line\n",
    "    geneTF = \"gene\" in line.split(\"\\t\")[2]\n",
    "    if proteinTF and chrTF and geneTF:\n",
    "        start=line.split(\"\\t\")[3]\n",
    "        end=line.split(\"\\t\")[4]\n",
    "        gene_name=line.split(\"\\t\")[-1].split(\";\")[2]\n",
    "        gene_item=(start, end, gene_name)\n",
    "        gene_list.append(gene_item)\n"
   ]
  },
  {
   "cell_type": "code",
   "execution_count": 119,
   "metadata": {},
   "outputs": [
    {
     "name": "stdout",
     "output_type": "stream",
     "text": [
      "Upstream of mutation\n",
      "Downstream of mutation\n",
      "Downstream of mutation\n",
      "Upstream of mutation\n",
      "Upstream of mutation\n",
      "Upstream of mutation\n",
      "Upstream of mutation\n",
      "Downstream of mutation\n",
      "Downstream of mutation\n",
      "Downstream of mutation\n",
      "Upstream of mutation\n",
      "('21370918', '21373575', ' gene_name \"pre-mod(mdg4)-AA\"') 12\n",
      "('21378977', '21381970', ' gene_name \"tin\"') 12\n"
     ]
    }
   ],
   "source": [
    "import numpy as np\n",
    "lo=0\n",
    "hi=len(gene_list)-1\n",
    "mid=int((hi+lo)/2)\n",
    "prev_mid=hi+1\n",
    "\n",
    "tally=0\n",
    "pos=21378950\n",
    "    \n",
    "while len(range(lo, hi))!=1:\n",
    "    tally+=1\n",
    "    if len(range(lo, hi))==2:   # if there are only 2 elements left\n",
    "                                # binary search always gets rid of lower one\n",
    "        gene1=gene_list[lo]\n",
    "        gene2=gene_list[hi]\n",
    "        print(gene1, tally)\n",
    "        print(gene2, tally)\n",
    "        break\n",
    "    if int(gene_list[mid][0])<pos:\n",
    "        lo=mid\n",
    "        print(\"Upstream of mutation\")\n",
    "    else:\n",
    "        hi=mid\n",
    "        print(\"Downstream of mutation\")\n",
    "    prev_mid=mid\n",
    "    mid=int((hi+lo)/2)\n",
    "    if mid==prev_mid:\n",
    "        print(gene_list[mid], tally)\n"
   ]
  },
  {
   "cell_type": "code",
   "execution_count": null,
   "metadata": {},
   "outputs": [],
   "source": [
    "\n",
    "\n",
    "\n",
    "\n",
    "# while len(range(lo, hi))!=1:\n",
    "#     tally+=1\n",
    "#     if int(gene_list[mid][1])<pos:\n",
    "#         lo=mid\n",
    "#         print(\"too small\")\n",
    "#     else:\n",
    "#         hi=mid\n",
    "#         print(\"too large\")\n",
    "#     prev_mid=mid\n",
    "#     mid=int((hi+lo)/2)\n",
    "#     if mid==prev_mid:\n",
    "#         dist1=min(int(gene_list[mid][1])-pos, (int(gene_list[mid][0])-pos))\n",
    "#         dist2=min(int(gene_list[mid][1])-pos, (int(gene_list[mid][0])-pos))\n",
    "#         print(gene_list[mid], distance, tally)\n",
    "\n",
    "\n",
    "# while len(range(lo, hi))==2:\n",
    "#     tally+=1\n",
    "#     dist1=gene_list[lo][0]-pos\n",
    "#     dist2=gene_list[lo][1]-pos\n",
    "#     dist3=pos-gene_list[hi][0]\n",
    "#     dist4=pos-gene_list[hi][1]\n",
    "#     print(dist1,dist2,dist3,dist4)\n",
    "\n",
    "# def find_closer(mut_site, orf1s, orf1e, orf2s, orf2e):\n",
    "#     if mut_site in range(orf1s, orf1e):\n",
    "#         closest=[orf1s, orf1e]\n",
    "#     elif mut_site in range(orf2s, orf2e):\n",
    "#         closest=[orf2s, orf2e]\n",
    "#     elif mut_site-orf1e > mut_site-orf2e:\n",
    "#         closest=[orf2s, orf2e]\n",
    "#     else:\n",
    "#         closest=[orf1s, orf1e]\n",
    "#     return closest"
   ]
  },
  {
   "cell_type": "code",
   "execution_count": null,
   "metadata": {},
   "outputs": [],
   "source": []
  }
 ],
 "metadata": {
  "kernelspec": {
   "display_name": "Python 3",
   "language": "python",
   "name": "python3"
  },
  "language_info": {
   "codemirror_mode": {
    "name": "ipython",
    "version": 3
   },
   "file_extension": ".py",
   "mimetype": "text/x-python",
   "name": "python",
   "nbconvert_exporter": "python",
   "pygments_lexer": "ipython3",
   "version": "3.6.10"
  }
 },
 "nbformat": 4,
 "nbformat_minor": 4
}
