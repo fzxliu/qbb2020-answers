{
 "cells": [
  {
   "cell_type": "code",
   "execution_count": 16,
   "metadata": {},
   "outputs": [],
   "source": [
    "file=open('/mnt/c/Users/Frank/jhubootcamp/data/genomes/BDGP6.Ensembl.81.gtf','r')\n",
    "gene_list=[]\n",
    "for line in file.readlines():\n",
    "    if \"#\" in line:\n",
    "        continue\n",
    "    proteinTF = \"protein_coding\" in line\n",
    "    chrTF = \"3R\" in line\n",
    "    geneTF = \"gene\" in line.split(\"\\t\")[2]\n",
    "    if proteinTF and chrTF and geneTF:\n",
    "        start=line.split(\"\\t\")[3]\n",
    "        end=line.split(\"\\t\")[4]\n",
    "        gene_name=line.split(\"\\t\")[-1].split(\";\")[2]\n",
    "        gene_item=(start, end, gene_name)\n",
    "        gene_list.append(gene_item)\n"
   ]
  },
  {
   "cell_type": "code",
   "execution_count": 17,
   "metadata": {},
   "outputs": [
    {
     "name": "stdout",
     "output_type": "stream",
     "text": [
      "Upstream of mutation\n",
      "Downstream of mutation\n",
      "Downstream of mutation\n",
      "Upstream of mutation\n",
      "Upstream of mutation\n",
      "Upstream of mutation\n",
      "Upstream of mutation\n",
      "Downstream of mutation\n",
      "Downstream of mutation\n",
      "Downstream of mutation\n",
      "Upstream of mutation\n",
      "('21370918', '21373575', ' gene_name \"pre-mod(mdg4)-AA\"') 12\n",
      "('21378977', '21381970', ' gene_name \"tin\"') 12\n"
     ]
    }
   ],
   "source": [
    "import numpy as np\n",
    "lo=0\n",
    "hi=len(gene_list)-1\n",
    "mid=int((hi+lo)/2)\n",
    "prev_mid=hi+1\n",
    "\n",
    "tally=0\n",
    "pos=21378950\n",
    "    \n",
    "while len(range(lo, hi))!=1:\n",
    "    tally+=1\n",
    "    if len(range(lo, hi))==2:   # if there are only 2 elements left\n",
    "                                # binary search always gets rid of lower one\n",
    "        gene1=gene_list[lo]\n",
    "        gene2=gene_list[hi]\n",
    "        print(gene1, tally)\n",
    "        print(gene2, tally)\n",
    "        break\n",
    "    if int(gene_list[mid][0])<pos:\n",
    "        lo=mid\n",
    "        print(\"Upstream of mutation\")\n",
    "    else:\n",
    "        hi=mid\n",
    "        print(\"Downstream of mutation\")\n",
    "    prev_mid=mid\n",
    "    mid=int((hi+lo)/2)\n",
    "    if mid==prev_mid:\n",
    "        print(gene_list[mid], tally)\n",
    "\n",
    "\n"
   ]
  },
  {
   "cell_type": "code",
   "execution_count": 24,
   "metadata": {},
   "outputs": [
    {
     "name": "stdout",
     "output_type": "stream",
     "text": [
      "input gene ORF and postion of interest [21370918, 21373575, 21378977, 21381970, 21378950]\n",
      "arrangement on chromosome [21370918, 21373575, 21378950, 21378977, 21381970]\n",
      "bporder is [0 1 4 2 3]\n",
      "The distance to the nearest gene ('21378977', '21381970', ' gene_name \"tin\"') is 27\n"
     ]
    }
   ],
   "source": [
    "# unsorted gene ORF locations and input bp position\n",
    "pos_list=[int(gene1[0]),int(gene1[1]),int(gene2[0]),int(gene2[1]),pos]\n",
    "# order these positions like they would be physically organized on chromosome\n",
    "# while preserving the index information\n",
    "bporder=np.argsort([int(gene1[0]),int(gene1[1]),int(gene2[0]),int(gene2[1]),pos])\n",
    "chr_loc=sorted([int(gene1[0]),int(gene1[1]),int(gene2[0]),int(gene2[1]),pos])\n",
    "\n",
    "print('input gene ORF and postion of interest', pos_list)\n",
    "print('arrangement on chromosome', sorted_pos)\n",
    "print('bporder is', bporder)\n",
    "\n",
    "\n",
    "if bporder[1]==4:\n",
    "# if our pos of interest lies in the ORF of the first gene\n",
    "# a few schematics\n",
    "# =============[gene1---X---ORF]====Intergenic_region========[gene2-ORF]===============\n",
    "    print('position lies in the ORF of the gene', gene1)\n",
    "if bporder[3]==4:\n",
    "# =============[gene1-ORF]=====IGR=======[gene2-----X--ORF]===============\n",
    "    print('position lies in the ORF of the gene', gene2)\n",
    "if bporder[2]==4: \n",
    "# =============[gene1-ORF]==X==IGR========[gene2-ORF]===============\n",
    "    # if our pos of interest lies in the middle of the 5 positions,\n",
    "    # i.e. our pos lies in the IGR of two genes\n",
    "    dist1=chr_loc[2]-chr_loc[1]\n",
    "    dist2=chr_loc[3]-chr_loc[2]\n",
    "    if dist1 < dist2:\n",
    "        print('The distance to the nearest gene', gene1, 'is', dist1)\n",
    "    else:\n",
    "        print('The distance to the nearest gene', gene2, 'is', dist2)\n",
    "    "
   ]
  },
  {
   "cell_type": "code",
   "execution_count": null,
   "metadata": {},
   "outputs": [],
   "source": []
  }
 ],
 "metadata": {
  "kernelspec": {
   "display_name": "Python 3",
   "language": "python",
   "name": "python3"
  },
  "language_info": {
   "codemirror_mode": {
    "name": "ipython",
    "version": 3
   },
   "file_extension": ".py",
   "mimetype": "text/x-python",
   "name": "python",
   "nbconvert_exporter": "python",
   "pygments_lexer": "ipython3",
   "version": "3.6.10"
  }
 },
 "nbformat": 4,
 "nbformat_minor": 4
}
