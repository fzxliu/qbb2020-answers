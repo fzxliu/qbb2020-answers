{
 "cells": [
  {
   "cell_type": "markdown",
   "metadata": {},
   "source": [
    "Plotting for Part 1\n",
    "\n",
    "left panel: number of CTCF binding sites in each type of region (exon, intron…) for each cell type\n",
    "right panel: number of sites lost and gained during differentiation for each cell type\n"
   ]
  },
  {
   "cell_type": "code",
   "execution_count": 3,
   "metadata": {},
   "outputs": [
    {
     "name": "stdout",
     "output_type": "stream",
     "text": [
      "G1E\n",
      "     85 exon\n",
      "    311 intron\n",
      "     55 promoter\n",
      "ER4\n",
      "    101 exon\n",
      "    341 intron\n",
      "     67 promoter\n"
     ]
    }
   ],
   "source": [
    "%%bash\n",
    "echo \"G1E\"\n",
    "less uniq_G1E_features.txt\n",
    "echo \"ER4\"\n",
    "less uniq_ER4_features.txt"
   ]
  },
  {
   "cell_type": "code",
   "execution_count": 1,
   "metadata": {},
   "outputs": [
    {
     "name": "stdout",
     "output_type": "stream",
     "text": [
      "59 lost.bed\n",
      "123 gained.bed\n"
     ]
    }
   ],
   "source": [
    "%%bash\n",
    "less diff_gain_loss.txt"
   ]
  },
  {
   "cell_type": "code",
   "execution_count": 78,
   "metadata": {},
   "outputs": [
    {
     "data": {
      "text/plain": [
       "Text(0, 0.5, 'Binding sites count')"
      ]
     },
     "execution_count": 78,
     "metadata": {},
     "output_type": "execute_result"
    },
    {
     "data": {
      "image/png": "[encoded data removed]",
      "text/plain": [
       "<Figure size 864x432 with 2 Axes>"
      ]
     },
     "metadata": {
      "needs_background": "light"
     },
     "output_type": "display_data"
    }
   ],
   "source": [
    "import numpy as np\n",
    "import matplotlib.pyplot as plt\n",
    "import pandas as pd\n",
    "\n",
    "exon=[85, 101]\n",
    "intron=[311, 341]\n",
    "promoter=[55, 67]\n",
    "\n",
    "X1=['G1E', 'ER4']\n",
    "features=['Exon', 'Intron', 'Promoter']\n",
    "\n",
    "fig, axes = plt.subplots(1, 2, figsize=(12, 6),gridspec_kw={'width_ratios': [4, 1]})\n",
    "\n",
    "df1 = pd.DataFrame(np.c_[exon, intron, promoter], index=X1, columns=features)\n",
    "df1.plot.bar(ax=axes[0])\n",
    "\n",
    "data = {'Lost': 59, 'Gained': 123}\n",
    "names = list(data.keys())\n",
    "values = list(data.values())\n",
    "\n",
    "axes[1].bar(names, values,)\n",
    "axes[0].set_ylabel('Feature count')\n",
    "axes[1].set_ylabel('Binding sites count')\n",
    "\n"
   ]
  },
  {
   "cell_type": "code",
   "execution_count": null,
   "metadata": {},
   "outputs": [],
   "source": []
  }
 ],
 "metadata": {
  "kernelspec": {
   "display_name": "Python 3",
   "language": "python",
   "name": "python3"
  },
  "language_info": {
   "codemirror_mode": {
    "name": "ipython",
    "version": 3
   },
   "file_extension": ".py",
   "mimetype": "text/x-python",
   "name": "python",
   "nbconvert_exporter": "python",
   "pygments_lexer": "ipython3",
   "version": "3.6.10"
  }
 },
 "nbformat": 4,
 "nbformat_minor": 4
}
