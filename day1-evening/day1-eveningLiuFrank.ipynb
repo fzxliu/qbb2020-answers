{
 "cells": [
  {
   "cell_type": "code",
   "execution_count": 1,
   "metadata": {},
   "outputs": [
    {
     "name": "stdout",
     "output_type": "stream",
     "text": [
      "SRR072893.17703578\t16\t2L\t11916\t60\t40M\t*\t0\t0\tACTCCATTAACTTGCTGAACACTATTTCTTCCAACGTTTT\t%%%%%%%%%%%%%%%%%%%%%%%%%%%%%%%%%%%%%%%%\tAS:i:0\tXN:i:0\tXM:i:0\tXO:i:0\tXG:i:0\tNM:i:0\tMD:Z:40\tYT:Z:UU\tNH:i:1\n",
      "\n",
      "2000000\n",
      "1000\n"
     ]
    },
    {
     "data": {
      "text/plain": [
       "<function TextIOWrapper.close>"
      ]
     },
     "execution_count": 1,
     "metadata": {},
     "output_type": "execute_result"
    }
   ],
   "source": [
    "import numpy as np\n",
    "\n",
    "#Q1\n",
    "sam=open('/mnt/c/Users/Frank/jhubootcamp/qbb2020-answers/SRR072893.sam','r')\n",
    "\n",
    "samlines=sam.readlines()\n",
    "print(samlines[500])\n",
    "#counting lines in the sam file\n",
    "count = len(samlines)\n",
    "print(count)\n",
    "sam.close()\n",
    "\n",
    "# testing with the first 1000 lines\n",
    "sam_sub=open('/mnt/c/Users/Frank/jhubootcamp/qbb2020-answers/debug.sam','r')\n",
    "count2 = len(sam_sub.readlines())\n",
    "print(count2)\n",
    "sam_sub.close\n",
    "\n"
   ]
  },
  {
   "cell_type": "code",
   "execution_count": 2,
   "metadata": {},
   "outputs": [
    {
     "name": "stdout",
     "output_type": "stream",
     "text": [
      "1702765\n"
     ]
    }
   ],
   "source": [
    "# question 2: finding the number of perfect hits\n",
    "perfect=0\n",
    "nm_tag=\"NM:i:0\"\n",
    "\n",
    "for alignment in samlines:\n",
    "    if nm_tag in alignment:\n",
    "        perfect+=1\n",
    "\n",
    "print(perfect)"
   ]
  },
  {
   "cell_type": "code",
   "execution_count": 3,
   "metadata": {},
   "outputs": [
    {
     "name": "stdout",
     "output_type": "stream",
     "text": [
      "['2L', '2L', '2L', '2L', '2L', '2L', '2L', '2L', '2L', '2L']\n"
     ]
    }
   ],
   "source": [
    "# question 3: find aligned chromosomes for first 10 reads\n",
    "first_ten=samlines[0:10]\n",
    "# check the format of a single element from the list\n",
    "\n",
    "chr=[]\n",
    "\n",
    "for alignment in first_ten:\n",
    "    chr.append(alignment.split('\\t')[2]) # split by Tab using '\\t'\n",
    "print(chr)\n"
   ]
  },
  {
   "cell_type": "code",
   "execution_count": 4,
   "metadata": {},
   "outputs": [
    {
     "name": "stdout",
     "output_type": "stream",
     "text": [
      "59.6407825\n"
     ]
    }
   ],
   "source": [
    "# Q4 calculate average MAPQ score across all reads\n",
    "\n",
    "MAPQ=[]\n",
    "for alignment in samlines:\n",
    "    MAPQ_int=int(alignment.split('\\t')[4]) #MAPQ score is on the 5th column\n",
    "    MAPQ.append(MAPQ_int)\n",
    "    \n",
    "avg_MAPQ=np.mean(MAPQ)\n",
    "print(avg_MAPQ)"
   ]
  },
  {
   "cell_type": "code",
   "execution_count": 8,
   "metadata": {},
   "outputs": [
    {
     "name": "stdout",
     "output_type": "stream",
     "text": [
      "7550\n"
     ]
    }
   ],
   "source": [
    "# Q5 Count number of reads that start their alignment on chromosome 2L between base 10000 and 20000 (inclusive)\n",
    "\n",
    "\n",
    "count_twoL=0\n",
    "chr_ref=[]\n",
    "\n",
    "# get all the reads that start from from 10k to 20k\n",
    "\n",
    "for alignment in samlines:\n",
    "    pos=int(alignment.split('\\t')[3])\n",
    "    if pos <= 20000 and pos >= 10000:\n",
    "        chr_ref.append(alignment.split('\\t')[2])\n",
    "\n",
    "        \n",
    "# count the number of 2L tags\n",
    "for element in chr_ref:\n",
    "    if element=='2L':\n",
    "        count_twoL+=1\n",
    "        \n",
    "print(count_twoL)"
   ]
  }
 ],
 "metadata": {
  "kernelspec": {
   "display_name": "Python 3",
   "language": "python",
   "name": "python3"
  },
  "language_info": {
   "codemirror_mode": {
    "name": "ipython",
    "version": 3
   },
   "file_extension": ".py",
   "mimetype": "text/x-python",
   "name": "python",
   "nbconvert_exporter": "python",
   "pygments_lexer": "ipython3",
   "version": "3.6.10"
  }
 },
 "nbformat": 4,
 "nbformat_minor": 4
}
