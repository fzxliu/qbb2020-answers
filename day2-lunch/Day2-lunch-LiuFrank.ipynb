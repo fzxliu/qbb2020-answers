{
 "cells": [
  {
   "cell_type": "code",
   "execution_count": 56,
   "metadata": {},
   "outputs": [],
   "source": [
    "# question 1\n",
    "\n",
    "map=open('fly.txt','r')\n",
    "f = open('parsed.txt', mode='w')\n",
    "\n",
    "lines=[]\n",
    "for line in map.readlines():\n",
    "    if 'DROME' in line and 'FBgn' in line:\n",
    "        lines.append(line)\n",
    "map.close()\n",
    "\n",
    "for line in lines:\n",
    "    tag1=line.split( )[-1]\n",
    "    tag2=line.split( )[-2]\n",
    "    f.write(tag1+'\\t'+tag2+'\\n')\n",
    "    \n",
    "f.close()\n",
    "\n"
   ]
  },
  {
   "cell_type": "code",
   "execution_count": 58,
   "metadata": {},
   "outputs": [
    {
     "name": "stdout",
     "output_type": "stream",
     "text": [
      "['a', 'a', 'a', 'a']\n"
     ]
    }
   ],
   "source": [
    "a='a a a a'\n",
    "print(a.split( ))"
   ]
  },
  {
   "cell_type": "code",
   "execution_count": 85,
   "metadata": {},
   "outputs": [
    {
     "name": "stdout",
     "output_type": "stream",
     "text": [
      "3685\n",
      "17558\n",
      "3583\n"
     ]
    },
    {
     "ename": "TypeError",
     "evalue": "unhashable type: 'list'",
     "output_type": "error",
     "traceback": [
      "\u001b[0;31m---------------------------------------------------------------------------\u001b[0m",
      "\u001b[0;31mTypeError\u001b[0m                                 Traceback (most recent call last)",
      "\u001b[0;32m<ipython-input-85-f9e8c993ceab>\u001b[0m in \u001b[0;36m<module>\u001b[0;34m()\u001b[0m\n\u001b[1;32m     29\u001b[0m \u001b[0;31m# find rows in the ctab array w/ translation\u001b[0m\u001b[0;34m\u001b[0m\u001b[0;34m\u001b[0m\u001b[0;34m\u001b[0m\u001b[0m\n\u001b[1;32m     30\u001b[0m \u001b[0;31m# using intersect as keys\u001b[0m\u001b[0;34m\u001b[0m\u001b[0;34m\u001b[0m\u001b[0;34m\u001b[0m\u001b[0m\n\u001b[0;32m---> 31\u001b[0;31m \u001b[0mtranslated\u001b[0m\u001b[0;34m=\u001b[0m\u001b[0mD2\u001b[0m\u001b[0;34m.\u001b[0m\u001b[0mget\u001b[0m\u001b[0;34m(\u001b[0m\u001b[0mlist\u001b[0m\u001b[0;34m(\u001b[0m\u001b[0mintersect\u001b[0m\u001b[0;34m)\u001b[0m\u001b[0;34m)\u001b[0m\u001b[0;34m\u001b[0m\u001b[0;34m\u001b[0m\u001b[0m\n\u001b[0m\u001b[1;32m     32\u001b[0m \u001b[0;34m\u001b[0m\u001b[0m\n\u001b[1;32m     33\u001b[0m \u001b[0;31m# search the parsed.txt to find the UniProt id\u001b[0m\u001b[0;34m\u001b[0m\u001b[0;34m\u001b[0m\u001b[0;34m\u001b[0m\u001b[0m\n",
      "\u001b[0;31mTypeError\u001b[0m: unhashable type: 'list'"
     ]
    }
   ],
   "source": [
    "# question 2\n",
    "ctab_array=open('t_data.ctab','r')\n",
    "\n",
    "q1_out=open('parsed.txt','r')\n",
    "\n",
    "# make a dictionary out of q1_out w/ gene id as key\n",
    "# and UniProt id as value\n",
    "D1=dict()\n",
    "for row in q1_out.readlines():\n",
    "    D1[row.split( )[0]]=row.split( )[1]\n",
    "\n",
    "\n",
    "# dictionary from ctab w/ gene id as key and t_id as val\n",
    "D2=dict()\n",
    "\n",
    "for row in ctab_array.readlines()[1:]:\n",
    "    D2[row.split( )[8]]=row.split( )[0]\n",
    "\n",
    "# find intersection of two sets\n",
    "S1=set(D1.keys())\n",
    "S2=set(D2.keys())\n",
    "intersect=S1.intersection(S2)\n",
    "\n",
    "# checking if numbers seem right\n",
    "print(len(S1))\n",
    "print(len(S2))\n",
    "print(len(intersect))\n",
    "\n",
    "# find rows in the ctab array w/ translation\n",
    "# using intersect as keys\n",
    "translated=D2.get(list(intersect))\n",
    "\n",
    "# search the parsed.txt to find the UniProt id\n"
   ]
  },
  {
   "cell_type": "code",
   "execution_count": null,
   "metadata": {},
   "outputs": [],
   "source": []
  }
 ],
 "metadata": {
  "kernelspec": {
   "display_name": "Python 3",
   "language": "python",
   "name": "python3"
  },
  "language_info": {
   "codemirror_mode": {
    "name": "ipython",
    "version": 3
   },
   "file_extension": ".py",
   "mimetype": "text/x-python",
   "name": "python",
   "nbconvert_exporter": "python",
   "pygments_lexer": "ipython3",
   "version": "3.6.10"
  }
 },
 "nbformat": 4,
 "nbformat_minor": 4
}
