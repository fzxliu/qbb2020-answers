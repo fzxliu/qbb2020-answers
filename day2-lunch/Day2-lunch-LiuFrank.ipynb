{
 "cells": [
  {
   "cell_type": "code",
   "execution_count": 6,
   "metadata": {},
   "outputs": [],
   "source": [
    "# question 1\n",
    "\n",
    "fly=open('fly.txt','r')\n",
    "f = open('parsed.txt', mode='w')\n",
    "\n",
    "lines=[]\n",
    "for line in fly.readlines():\n",
    "    if 'DROME' in line and 'FBgn' in line:\n",
    "        lines.append(line)\n",
    "fly.close()\n",
    "\n",
    "for line in lines:\n",
    "    tag1=line.split( )[-1]\n",
    "    tag2=line.split( )[-2]\n",
    "    f.write(tag1+'\\t'+tag2+'\\n')\n",
    "    \n",
    "f.close()\n",
    "\n"
   ]
  },
  {
   "cell_type": "code",
   "execution_count": 7,
   "metadata": {},
   "outputs": [],
   "source": [
    "# Roadmap for Q2\n",
    "# read through the mapping file and store in a dictionary\n",
    "# first column: Flybase ID; second column: Uniprot ID\n",
    "\n",
    "# switch out Flybase ID with Uniprot ID in the ctab file\n",
    "\n",
    "# question 2\n",
    "ctab_array=open('t_data.ctab','r')\n",
    "\n",
    "q1_out=open('parsed.txt','r')\n",
    "\n",
    "fh3=open('translated_test.txt','w') \n",
    "# make a dictionary from q1_out w/ gene id as key and \n",
    "# UniProt id & line number as val\n",
    "\n",
    "\n",
    "D1 ={}\n",
    "i=0\n",
    "for row in q1_out.readlines():\n",
    "    D1[row.split( )[0]]=row.split( )[1]\n",
    "\n",
    "\n",
    "for row in ctab_array.readlines():\n",
    "    fields=row.rstrip().split()\n",
    "    if fields[0]=='t_id':\n",
    "        fields[8]='uniprot_id'\n",
    "        fh3.write('\\t'.join(fields)+'\\n')\n",
    "    if fields[8] in D1:\n",
    "        key=fields[8]\n",
    "        fields[8]=D1[key]\n",
    "        fh3.write('\\t'.join(fields)+'\\n')\n",
    "        \n",
    "    \n"
   ]
  },
  {
   "cell_type": "code",
   "execution_count": 1,
   "metadata": {},
   "outputs": [],
   "source": [
    "# # Updating into a function\n",
    "# def id_mapper(mapping_file, ctab_file, option):\n",
    "#     assert option == 1 or option == 2, 'option has to be 1 or 2'\n",
    "#     fly=open('fly.txt','r')\n",
    "#     q1_out=open(mapping_file, 'r')\n",
    "#     ctab_array=open(ctab_file, 'r')\n",
    "\n",
    "#     fh3=open('translated.txt',mode='w') \n",
    "#     D1 ={}\n",
    "#     i=0\n",
    "#     for row in q1_out.readlines():\n",
    "#         D1[row.split( )[0]]=row.split( )[1]\n",
    "\n",
    "\n",
    "#     for row in ctab_array.readlines():\n",
    "#         fields=row.rstrip().split()\n",
    "#         if fields[0]=='t_id':\n",
    "#             fields[8]='uniprot_id'\n",
    "#             fh3.write('\\t'.join(fields)+'\\n')\n",
    "#         if fields[8] in D1:\n",
    "#             key=fields[8]\n",
    "#             fields[8]=D1[key]\n",
    "#             fh3.write('\\t'.join(fields)+'\\n')\n",
    "#         else:\n",
    "#             if option == 1:\n",
    "#                 continue\n",
    "#             if option == 2:\n",
    "#                 fields[8]='not found'\n",
    "#                 fh3.write('\\t'.join(fields)+'\\n')\n"
   ]
  },
  {
   "cell_type": "code",
   "execution_count": null,
   "metadata": {},
   "outputs": [],
   "source": []
  },
  {
   "cell_type": "code",
   "execution_count": null,
   "metadata": {},
   "outputs": [],
   "source": []
  }
 ],
 "metadata": {
  "kernelspec": {
   "display_name": "Python 3",
   "language": "python",
   "name": "python3"
  },
  "language_info": {
   "codemirror_mode": {
    "name": "ipython",
    "version": 3
   },
   "file_extension": ".py",
   "mimetype": "text/x-python",
   "name": "python",
   "nbconvert_exporter": "python",
   "pygments_lexer": "ipython3",
   "version": "3.6.10"
  }
 },
 "nbformat": 4,
 "nbformat_minor": 4
}
