{
 "cells": [
  {
   "cell_type": "markdown",
   "metadata": {},
   "source": [
    "Q1 Neonatal gut microbiome is dominated by Firmicutes. Immediately following birth, this phylum consists mostly of Enterococcus; however, as infants are exposed to the outside environment, their gut is starting to be colonized by skin-associated microbes, including Staphylococcus and Curtobacterium genera.\n",
    "\n",
    "Q2 tetranucleotide frequency\n",
    "\n",
    "Q3\n",
    "A) 5 bins\n",
    "B) ( 1683638 + 2910568 + 2525062 + 2758136 + 2294654 ) / 38708237 = 0.31445653285; around 31.45%\n",
    "C) The genomes seem to be a bit on the smaller size, but in the right order of magnitude for bacteria (~4Mb genome size for B. subtilis or E. coli)\n",
    "D) Align each bin to prokaryote reference genome database; unaligned reads from the bin are likely contamination, and the part of reference genome with no coverage is missing reads\n",
    "\n",
    "Q4\n",
    "A) See bash script; my results are:\n",
    "bin starts\n",
    "      2 Anaerococcus\n",
    "     70 Staphylococcus\n",
    "bin ends\n",
    "bin starts\n",
    "    193 Leuconostoc\n",
    "      1 Streptococcus\n",
    "bin ends\n",
    "bin starts\n",
    "     74 Staphylococcus\n",
    "bin ends\n",
    "bin starts\n",
    "      6 Enterococcus\n",
    "bin ends\n",
    "bin starts\n",
    "     12 Cutibacterium\n",
    "bin ends\n",
    "bin starts\n",
    "     73 Staphylococcus\n",
    "bin ends\n",
    "bin starts\n",
    "     60 Staphylococcus\n",
    "bin ends\n",
    "bin starts\n",
    "      3 Anaerococcus\n",
    "      2 Clostridium\n",
    "      2 Finegoldia\n",
    "      1 Streptococcus\n",
    "bin ends\n",
    "\n",
    "B) We can simply BLAST the binned genomes against a 16S (or other phylogenetic marker gene) database and find the most abundant phylogeny assignment\n",
    "\n"
   ]
  },
  {
   "cell_type": "code",
   "execution_count": null,
   "metadata": {},
   "outputs": [],
   "source": []
  }
 ],
 "metadata": {
  "kernelspec": {
   "display_name": "Python 3",
   "language": "python",
   "name": "python3"
  },
  "language_info": {
   "codemirror_mode": {
    "name": "ipython",
    "version": 3
   },
   "file_extension": ".py",
   "mimetype": "text/x-python",
   "name": "python",
   "nbconvert_exporter": "python",
   "pygments_lexer": "ipython3",
   "version": "3.6.10"
  }
 },
 "nbformat": 4,
 "nbformat_minor": 4
}
