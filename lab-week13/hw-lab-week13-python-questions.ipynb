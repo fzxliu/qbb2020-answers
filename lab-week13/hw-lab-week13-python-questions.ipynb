{
 "cells": [
  {
   "cell_type": "markdown",
   "metadata": {},
   "source": [
    "# Q1\n",
    "Neonatal gut microbiome is dominated by Firmicutes. Immediately following birth, this phylum consists mostly of skin-associated microbes such as Staphylococcus and Curtobacterium genera; however, as infants are exposed to the outside environment, their gut is starting to be colonized by typical gut microbes, including Enterococcus. \n",
    "\n",
    "# Q2 \n",
    "tetranucleotide frequency\n",
    "\n",
    "# Q3\n",
    "A) 5 bins\n",
    "\n",
    "B) ( 1683638 + 2910568 + 2525062 + 2758136 + 2294654 ) / 38708237 = 0.31445653285; around 31.45%\n",
    "\n",
    "C) The genomes seem to be a bit on the smaller size, but in the right order of magnitude for bacteria (~4Mb genome size for B. subtilis or E. coli)\n",
    "\n",
    "D) Align each bin to prokaryote reference genome database; unaligned reads from the bin are likely contamination, and the part of reference genome with no coverage is missing reads\n",
    "\n",
    "# Q4\n",
    "A) See bash script; \n",
    "At genera level resolution, my results are:\n",
    "bin 1: Staphylococcus;\n",
    "bin 2: Leuconostoc;\n",
    "bin 3: Staphylococcus;\n",
    "bin 4: Enterococcus;\n",
    "bin 5: Cutibacterium;\n",
    "bin 6: Staphylococcus;\n",
    "bin 7: Staphylococcus;\n",
    "bin 8: Anaerococcus.\n",
    "\n",
    "At species level resolution; my results are:\n",
    "bin 1: Staphylococcus haemolyticus;\n",
    "bin 2: Leuconostoc citreum;\n",
    "bin 3: Staphylococcus lugdunensis;\n",
    "bin 4: Enterococcus faecalis;\n",
    "bin 5: Cutibacterium avidum;\n",
    "bin 6: Staphylococcus epidermidis;\n",
    "bin 7: Staphylococcus aureus;\n",
    "bin 8: Anaerococcus prevotii.\n",
    "\n",
    "\n",
    "B) We can simply BLAST the binned genomes against a 16S (or other phylogenetic marker gene) database and find the most abundant phylogeny assignment\n",
    "\n",
    "# Q5\n",
    "See Python script below"
   ]
  },
  {
   "cell_type": "code",
   "execution_count": null,
   "metadata": {},
   "outputs": [],
   "source": []
  }
 ],
 "metadata": {
  "kernelspec": {
   "display_name": "Python 3",
   "language": "python",
   "name": "python3"
  },
  "language_info": {
   "codemirror_mode": {
    "name": "ipython",
    "version": 3
   },
   "file_extension": ".py",
   "mimetype": "text/x-python",
   "name": "python",
   "nbconvert_exporter": "python",
   "pygments_lexer": "ipython3",
   "version": "3.6.10"
  }
 },
 "nbformat": 4,
 "nbformat_minor": 4
}
